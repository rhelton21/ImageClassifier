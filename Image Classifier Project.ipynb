{
 "cells": [
  {
   "cell_type": "markdown",
   "metadata": {},
   "source": [
    "## Prepare the workspace"
   ]
  },
  {
   "cell_type": "code",
   "execution_count": 1,
   "metadata": {},
   "outputs": [],
   "source": [
    "# Before you proceed, update the PATH\n",
    "import os\n",
    "os.environ['PATH'] = f\"{os.environ['PATH']}:/root/.local/bin\"\n",
    "os.environ['PATH'] = f\"{os.environ['PATH']}:/opt/conda/lib/python3.6/site-packages\"\n",
    "# Restart the Kernel at this point. "
   ]
  },
  {
   "cell_type": "code",
   "execution_count": 2,
   "metadata": {},
   "outputs": [
    {
     "name": "stdout",
     "output_type": "stream",
     "text": [
      "Defaulting to user installation because normal site-packages is not writeable\n",
      "\u001b[31mERROR: Could not find a version that satisfies the requirement torch==1.0.0 (from versions: 1.11.0, 1.12.0, 1.12.1, 1.13.0, 1.13.1, 2.0.0, 2.0.1)\u001b[0m\u001b[31m\n",
      "\u001b[0m\u001b[31mERROR: No matching distribution found for torch==1.0.0\u001b[0m\u001b[31m\n",
      "\u001b[0m"
     ]
    }
   ],
   "source": [
    "# Do not execute the commands below unless you have restart the Kernel after updating the PATH. \n",
    "!python -m pip install torch==1.0.0"
   ]
  },
  {
   "cell_type": "code",
   "execution_count": 3,
   "metadata": {},
   "outputs": [
    {
     "name": "stdout",
     "output_type": "stream",
     "text": [
      "2.0.1\n",
      "True\n"
     ]
    }
   ],
   "source": [
    "# Check torch version and CUDA status if GPU is enabled.\n",
    "import torch\n",
    "print(torch.__version__)\n",
    "print(torch.cuda.is_available()) # Should return True when GPU is enabled. "
   ]
  },
  {
   "cell_type": "markdown",
   "metadata": {},
   "source": [
    "# Developing an AI application\n",
    "\n",
    "Going forward, AI algorithms will be incorporated into more and more everyday applications. For example, you might want to include an image classifier in a smart phone app. To do this, you'd use a deep learning model trained on hundreds of thousands of images as part of the overall application architecture. A large part of software development in the future will be using these types of models as common parts of applications. \n",
    "\n",
    "In this project, you'll train an image classifier to recognize different species of flowers. You can imagine using something like this in a phone app that tells you the name of the flower your camera is looking at. In practice you'd train this classifier, then export it for use in your application. We'll be using [this dataset](http://www.robots.ox.ac.uk/~vgg/data/flowers/102/index.html) of 102 flower categories, you can see a few examples below. \n",
    "\n",
    "<img src='assets/Flowers.png' width=500px>\n",
    "\n",
    "The project is broken down into multiple steps:\n",
    "\n",
    "* Load and preprocess the image dataset\n",
    "* Train the image classifier on your dataset\n",
    "* Use the trained classifier to predict image content\n",
    "\n",
    "We'll lead you through each part which you'll implement in Python.\n",
    "\n",
    "When you've completed this project, you'll have an application that can be trained on any set of labeled images. Here your network will be learning about flowers and end up as a command line application. But, what you do with your new skills depends on your imagination and effort in building a dataset. For example, imagine an app where you take a picture of a car, it tells you what the make and model is, then looks up information about it. Go build your own dataset and make something new.\n",
    "\n",
    "First up is importing the packages you'll need. It's good practice to keep all the imports at the beginning of your code. As you work through this notebook and find you need to import a package, make sure to add the import up here."
   ]
  },
  {
   "cell_type": "code",
   "execution_count": 4,
   "metadata": {},
   "outputs": [],
   "source": [
    "# Imports here\n",
    "import torch\n",
    "from torchvision import datasets, models, transforms\n",
    "import torch.nn as nn\n",
    "import torch.optim as optim\n",
    "from torch.utils.data import DataLoader\n",
    "import json\n",
    "from PIL import Image\n",
    "import numpy as np\n",
    "import matplotlib.pyplot as plt"
   ]
  },
  {
   "cell_type": "markdown",
   "metadata": {},
   "source": [
    "## Load the data\n",
    "\n",
    "Here you'll use `torchvision` to load the data ([documentation](http://pytorch.org/docs/0.3.0/torchvision/index.html)). The data should be included alongside this notebook, otherwise you can [download it here](https://s3.amazonaws.com/content.udacity-data.com/nd089/flower_data.tar.gz). "
   ]
  },
  {
   "cell_type": "markdown",
   "metadata": {},
   "source": [
    "If you do not find the `flowers/` dataset in the current directory, **/workspace/home/aipnd-project/**, you can download it using the following commands. \n",
    "\n",
    "```bash\n",
    "!wget 'https://s3.amazonaws.com/content.udacity-data.com/nd089/flower_data.tar.gz'\n",
    "!unlink flowers\n",
    "!mkdir flowers && tar -xzf flower_data.tar.gz -C flowers\n",
    "```\n"
   ]
  },
  {
   "cell_type": "markdown",
   "metadata": {},
   "source": [
    "## Data Description\n",
    "The dataset is split into three parts, training, validation, and testing. For the training, you'll want to apply transformations such as random scaling, cropping, and flipping. This will help the network generalize leading to better performance. You'll also need to make sure the input data is resized to 224x224 pixels as required by the pre-trained networks.\n",
    "\n",
    "The validation and testing sets are used to measure the model's performance on data it hasn't seen yet. For this you don't want any scaling or rotation transformations, but you'll need to resize then crop the images to the appropriate size.\n",
    "\n",
    "The pre-trained networks you'll use were trained on the ImageNet dataset where each color channel was normalized separately. For all three sets you'll need to normalize the means and standard deviations of the images to what the network expects. For the means, it's `[0.485, 0.456, 0.406]` and for the standard deviations `[0.229, 0.224, 0.225]`, calculated from the ImageNet images.  These values will shift each color channel to be centered at 0 and range from -1 to 1.\n",
    " "
   ]
  },
  {
   "cell_type": "code",
   "execution_count": 5,
   "metadata": {},
   "outputs": [],
   "source": [
    "data_dir = 'flowers'\n",
    "train_dir = data_dir + '/train'\n",
    "valid_dir = data_dir + '/valid'\n",
    "test_dir = data_dir + '/test'"
   ]
  },
  {
   "cell_type": "code",
   "execution_count": 6,
   "metadata": {},
   "outputs": [
    {
     "name": "stdout",
     "output_type": "stream",
     "text": [
      "Device: cuda\n",
      "Train DataLoader - Number of batches: 205\n",
      "Train DataLoader - Total images: 6552\n",
      "Valid DataLoader - Number of batches: 26\n",
      "Valid DataLoader - Total images: 818\n",
      "Test DataLoader - Number of batches: 26\n",
      "Test DataLoader - Total images: 819\n"
     ]
    }
   ],
   "source": [
    "# TODO: Define your transforms for the training, validation, and testing sets\n",
    "\n",
    "# Define transforms for the training, validation, and testing sets\n",
    "data_transforms = {\n",
    "    'train': transforms.Compose([\n",
    "        transforms.RandomResizedCrop(224),\n",
    "        transforms.RandomHorizontalFlip(),\n",
    "        transforms.ToTensor(),\n",
    "        transforms.Normalize([0.485, 0.456, 0.406], [0.229, 0.224, 0.225])\n",
    "    ]),\n",
    "    'valid': transforms.Compose([\n",
    "        transforms.Resize(256),\n",
    "        transforms.CenterCrop(224),\n",
    "        transforms.ToTensor(),\n",
    "        transforms.Normalize([0.485, 0.456, 0.406], [0.229, 0.224, 0.225])\n",
    "    ]),\n",
    "    'test': transforms.Compose([\n",
    "        transforms.Resize(256),\n",
    "        transforms.CenterCrop(224),\n",
    "        transforms.ToTensor(),\n",
    "        transforms.Normalize([0.485, 0.456, 0.406], [0.229, 0.224, 0.225])\n",
    "    ]),\n",
    "}\n",
    "\n",
    "# Load the datasets with ImageFolder\n",
    "image_datasets = {\n",
    "    'train': datasets.ImageFolder(train_dir, transform=data_transforms['train']),\n",
    "    'valid': datasets.ImageFolder(valid_dir, transform=data_transforms['valid']),\n",
    "    'test': datasets.ImageFolder(test_dir, transform=data_transforms['test'])\n",
    "}\n",
    "\n",
    "# Define the dataloaders\n",
    "dataloaders = {\n",
    "    'train': torch.utils.data.DataLoader(image_datasets['train'], batch_size=32, shuffle=True),\n",
    "    'valid': torch.utils.data.DataLoader(image_datasets['valid'], batch_size=32),\n",
    "    'test': torch.utils.data.DataLoader(image_datasets['test'], batch_size=32)\n",
    "}\n",
    "\n",
    "# Check if GPU is available and if not, use CPU\n",
    "device = torch.device(\"cuda\" if torch.cuda.is_available() else \"cpu\")\n",
    "\n",
    "# Print device information\n",
    "print(f\"Device: {device}\")\n",
    "\n",
    "# Print information about dataloaders\n",
    "for phase in ['train', 'valid', 'test']:\n",
    "    print(f\"{phase.capitalize()} DataLoader - Number of batches: {len(dataloaders[phase])}\")\n",
    "    print(f\"{phase.capitalize()} DataLoader - Total images: {len(image_datasets[phase])}\")"
   ]
  },
  {
   "cell_type": "markdown",
   "metadata": {},
   "source": [
    "### Label mapping\n",
    "\n",
    "You'll also need to load in a mapping from category label to category name. You can find this in the file `cat_to_name.json`. It's a JSON object which you can read in with the [`json` module](https://docs.python.org/2/library/json.html). This will give you a dictionary mapping the integer encoded categories to the actual names of the flowers."
   ]
  },
  {
   "cell_type": "code",
   "execution_count": 7,
   "metadata": {},
   "outputs": [
    {
     "name": "stdout",
     "output_type": "stream",
     "text": [
      "Number of items in cat_to_name: 102\n",
      "Some examples from cat_to_name: {'21': 'fire lily', '3': 'canterbury bells', '45': 'bolero deep blue'}\n"
     ]
    }
   ],
   "source": [
    "import json\n",
    "\n",
    "with open('cat_to_name.json', 'r') as f:\n",
    "    cat_to_name = json.load(f)\n",
    "    \n",
    "# Print some information about the loaded JSON object\n",
    "print(f\"Number of items in cat_to_name: {len(cat_to_name)}\")\n",
    "\n",
    "# Print a few examples from the loaded JSON object\n",
    "examples = {k: cat_to_name[k] for k in list(cat_to_name)[:3]}  # Get the first 3 items as examples\n",
    "print(f\"Some examples from cat_to_name: {examples}\")\n"
   ]
  },
  {
   "cell_type": "markdown",
   "metadata": {},
   "source": [
    "# Building and training the classifier\n",
    "\n",
    "Now that the data is ready, it's time to build and train the classifier. As usual, you should use one of the pretrained models from `torchvision.models` to get the image features. Build and train a new feed-forward classifier using those features.\n",
    "\n",
    "We're going to leave this part up to you. Refer to [the rubric](https://review.udacity.com/#!/rubrics/1663/view) for guidance on successfully completing this section. Things you'll need to do:\n",
    "\n",
    "* Load a [pre-trained network](http://pytorch.org/docs/master/torchvision/models.html) (If you need a starting point, the VGG networks work great and are straightforward to use)\n",
    "* Define a new, untrained feed-forward network as a classifier, using ReLU activations and dropout\n",
    "* Train the classifier layers using backpropagation using the pre-trained network to get the features\n",
    "* Track the loss and accuracy on the validation set to determine the best hyperparameters\n",
    "\n",
    "We've left a cell open for you below, but use as many as you need. Our advice is to break the problem up into smaller parts you can run separately. Check that each part is doing what you expect, then move on to the next. You'll likely find that as you work through each part, you'll need to go back and modify your previous code. This is totally normal!\n",
    "\n",
    "When training make sure you're updating only the weights of the feed-forward network. You should be able to get the validation accuracy above 70% if you build everything right. Make sure to try different hyperparameters (learning rate, units in the classifier, epochs, etc) to find the best model. Save those hyperparameters to use as default values in the next part of the project.\n",
    "\n",
    "One last important tip if you're using the workspace to run your code: To avoid having your workspace disconnect during the long-running tasks in this notebook, please read in the earlier page in this lesson called Intro to\n",
    "GPU Workspaces about Keeping Your Session Active. You'll want to include code from the workspace_utils.py module.\n",
    "\n",
    "## Note for Workspace users: \n",
    "If your network is over 1 GB when saved as a checkpoint, there might be issues with saving backups in your workspace. Typically this happens with wide dense layers after the convolutional layers. If your saved checkpoint is larger than 1 GB (you can open a terminal and check with `ls -lh`), you should reduce the size of your hidden layers and train again."
   ]
  },
  {
   "cell_type": "code",
   "execution_count": 8,
   "metadata": {
    "scrolled": true
   },
   "outputs": [
    {
     "name": "stdout",
     "output_type": "stream",
     "text": [
      "Loading a pre-trained model: VGG16\n"
     ]
    },
    {
     "name": "stderr",
     "output_type": "stream",
     "text": [
      "/opt/conda/lib/python3.10/site-packages/torchvision/models/_utils.py:208: UserWarning: The parameter 'pretrained' is deprecated since 0.13 and may be removed in the future, please use 'weights' instead.\n",
      "  warnings.warn(\n",
      "/opt/conda/lib/python3.10/site-packages/torchvision/models/_utils.py:223: UserWarning: Arguments other than a weight enum or `None` for 'weights' are deprecated since 0.13 and may be removed in the future. The current behavior is equivalent to passing `weights=VGG16_Weights.IMAGENET1K_V1`. You can also use `weights=VGG16_Weights.DEFAULT` to get the most up-to-date weights.\n",
      "  warnings.warn(msg)\n"
     ]
    },
    {
     "name": "stdout",
     "output_type": "stream",
     "text": [
      "Freezing the parameters of the pre-trained model\n",
      "Defining a new, untrained feed-forward network as a classifier\n",
      "Defining the loss and optimizer\n",
      "Moving the model to the available device:  cuda\n",
      "Moving the model to the available device:  cuda\n"
     ]
    }
   ],
   "source": [
    "# TODO: Build and train your network\n",
    "# Load a pre-trained model\n",
    "print(\"Loading a pre-trained model: VGG16\")\n",
    "model = models.vgg16(pretrained=True)\n",
    "\n",
    "print(\"Freezing the parameters of the pre-trained model\")\n",
    "for param in model.parameters():\n",
    "    param.requires_grad = False\n",
    "\n",
    "print(\"Defining a new, untrained feed-forward network as a classifier\")\n",
    "classifier = nn.Sequential(nn.Linear(25088, 4096),\n",
    "                           nn.ReLU(),\n",
    "                           nn.Dropout(0.5),\n",
    "                           nn.Linear(4096, 102),\n",
    "                           nn.LogSoftmax(dim=1))\n",
    "\n",
    "model.classifier = classifier\n",
    "\n",
    "print(\"Defining the loss and optimizer\")\n",
    "criterion = nn.NLLLoss()\n",
    "optimizer = optim.Adam(model.classifier.parameters(), lr=0.001)\n",
    "\n",
    "print(\"Moving the model to the available device: \", device)\n",
    "model.to(device)\n",
    "\n",
    "import datetime  # Don't forget to import datetime\n",
    "\n",
    "\n",
    "print(\"Moving the model to the available device: \", device)\n",
    "model.to(device)\n",
    "\n",
    "def train_model(model, dataloaders, criterion, optimizer, device, epochs=2, print_freq=20, lr=0.001):\n",
    "    if torch.cuda.is_available():\n",
    "        print('*** Training classifier in GPU mode ...\\n')\n",
    "    else:\n",
    "        print('*** Training classifier in CPU mode ...\\n')\n",
    "    \n",
    "    model.to(device)\n",
    "    start_time = datetime.datetime.now()  # Using datetime class from datetime module\n",
    "    \n",
    "    print('Epochs:', epochs, ', Print Frequency:', print_freq, ', Learning Rate:', lr, '\\n')\n",
    "\n",
    "    for e in range(epochs):\n",
    "        model.train()\n",
    "        running_loss = 0\n",
    "        for i, (images, labels) in enumerate(dataloaders['train']):\n",
    "            images, labels = images.to(device), labels.to(device)\n",
    "            \n",
    "            optimizer.zero_grad()\n",
    "            output = model.forward(images)\n",
    "            loss = criterion(output, labels)\n",
    "            loss.backward()\n",
    "            optimizer.step()\n",
    "\n",
    "            running_loss += loss.item()\n",
    "            \n",
    "            if i % print_freq == 0:\n",
    "                print('*', end='')\n",
    "        \n",
    "        valid_loss, accuracy = validate_model(model, dataloaders, criterion, device)\n",
    "        \n",
    "        print('\\nEpoch: {}/{}..'.format(e + 1, epochs),\n",
    "              'Training Loss: {:.3f}..'.format(running_loss / len(dataloaders['train'])),\n",
    "              'Validation Loss: {:.3f}..'.format(valid_loss / len(dataloaders['valid'])),\n",
    "              'Validation Accuracy: {:.3f}%'.format(accuracy / len(dataloaders['valid']) * 100))\n",
    "        \n",
    "    elapsed = datetime.datetime.now() - start_time  # Using datetime class from datetime module\n",
    "    print('\\n*** Training completed! \\nElapsed time[hh:mm:ss.ms]: {}'.format(elapsed))\n",
    "\n",
    "    return model\n",
    "\n",
    "\n",
    "def validate_model(model, dataloaders, criterion, device):\n",
    "    model.eval()\n",
    "    valid_loss = 0\n",
    "    accuracy = 0\n",
    "    \n",
    "    with torch.no_grad():\n",
    "        for images, labels in dataloaders['valid']:\n",
    "            images, labels = images.to(device), labels.to(device)\n",
    "            output = model(images).to(device)  # Explicitly mentioning device here\n",
    "            valid_loss += criterion(output, labels).item()\n",
    "            \n",
    "            ps = torch.exp(output)\n",
    "            top_p, top_class = ps.topk(1, dim=1)\n",
    "            equals = top_class == labels.view(*top_class.shape)\n",
    "            accuracy += torch.mean(equals.type(torch.FloatTensor)).item()\n",
    "    \n",
    "    model.train()\n",
    "    return valid_loss, accuracy\n",
    "\n"
   ]
  },
  {
   "cell_type": "code",
   "execution_count": 9,
   "metadata": {},
   "outputs": [
    {
     "name": "stdout",
     "output_type": "stream",
     "text": [
      "*** Training classifier in GPU mode ...\n",
      "\n",
      "Epochs: 10 , Print Frequency: 40 , Learning Rate: 0.001 \n",
      "\n",
      "******\n",
      "Epoch: 1/10.. Training Loss: 3.081.. Validation Loss: 0.984.. Validation Accuracy: 74.893%\n",
      "******\n",
      "Epoch: 2/10.. Training Loss: 1.642.. Validation Loss: 0.730.. Validation Accuracy: 80.689%\n",
      "******\n",
      "Epoch: 3/10.. Training Loss: 1.511.. Validation Loss: 0.577.. Validation Accuracy: 83.467%\n",
      "******\n",
      "Epoch: 4/10.. Training Loss: 1.437.. Validation Loss: 0.642.. Validation Accuracy: 84.282%\n",
      "******\n",
      "Epoch: 5/10.. Training Loss: 1.409.. Validation Loss: 0.565.. Validation Accuracy: 85.817%\n",
      "******\n",
      "Epoch: 6/10.. Training Loss: 1.330.. Validation Loss: 0.544.. Validation Accuracy: 87.139%\n",
      "******\n",
      "Epoch: 7/10.. Training Loss: 1.342.. Validation Loss: 0.567.. Validation Accuracy: 85.724%\n",
      "******\n",
      "Epoch: 8/10.. Training Loss: 1.268.. Validation Loss: 0.512.. Validation Accuracy: 87.139%\n",
      "******\n",
      "Epoch: 9/10.. Training Loss: 1.303.. Validation Loss: 0.496.. Validation Accuracy: 87.740%\n",
      "******\n",
      "Epoch: 10/10.. Training Loss: 1.276.. Validation Loss: 0.495.. Validation Accuracy: 87.794%\n",
      "\n",
      "*** Training completed! \n",
      "Elapsed time[hh:mm:ss.ms]: 0:51:37.131483\n"
     ]
    }
   ],
   "source": [
    "# Now call the train function\n",
    "epochs = 10\n",
    "print_freq = 40 # or any other value depending on your preference\n",
    "lr = 0.001\n",
    "\n",
    "trained_model = train_model(model, dataloaders, criterion, optimizer, device, epochs, print_freq, lr)\n"
   ]
  },
  {
   "cell_type": "markdown",
   "metadata": {},
   "source": [
    "## Testing your network\n",
    "\n",
    "It's good practice to test your trained network on test data, images the network has never seen either in training or validation. This will give you a good estimate for the model's performance on completely new images. Run the test images through the network and measure the accuracy, the same way you did validation. You should be able to reach around 70% accuracy on the test set if the model has been trained well."
   ]
  },
  {
   "cell_type": "code",
   "execution_count": 10,
   "metadata": {},
   "outputs": [
    {
     "name": "stdout",
     "output_type": "stream",
     "text": [
      "Initiating validation on the test set\n",
      "*** Starting Validation on the Test Set ***\n",
      "\n",
      "Processing batch 26\n",
      "*** Validation on the Test Set Completed! ***\n",
      "Test Loss: 0.587.. Test Accuracy: 85.722%\n",
      "Elapsed time[hh:mm:ss.ms]: 0:00:32.488259\n"
     ]
    }
   ],
   "source": [
    "from datetime import datetime  # Importing datetime if not done already\n",
    "\n",
    "def test_model(model, dataloaders, criterion, device):\n",
    "    \"\"\"Evaluate the model on test data and print test loss and accuracy.\"\"\"\n",
    "    \n",
    "    print(\"*** Starting Validation on the Test Set ***\\n\")\n",
    "    start_time = datetime.now()\n",
    "    \n",
    "    model.eval()  # Set model to evaluate mode\n",
    "    test_loss = 0\n",
    "    accuracy = 0\n",
    "    \n",
    "    with torch.no_grad():\n",
    "        # Iterate over the test data.\n",
    "        for batch_number, (images, labels) in enumerate(dataloaders['test'], start=1):\n",
    "            # Concise batch processing message.\n",
    "            print(f\"\\rProcessing batch {batch_number}\", end='')\n",
    "            \n",
    "            # Move images and labels to the specified device.\n",
    "            images, labels = images.to(device), labels.to(device)\n",
    "            \n",
    "            # Calculate the output, loss, and accuracy.\n",
    "            output = model(images).to(device)\n",
    "            test_loss += criterion(output, labels).item()\n",
    "            ps = torch.exp(output)\n",
    "            top_p, top_class = ps.topk(1, dim=1)\n",
    "            equals = top_class == labels.view(*top_class.shape)\n",
    "            accuracy += torch.mean(equals.type(torch.FloatTensor)).item()\n",
    "        \n",
    "    # Calculate elapsed time and print the final results.\n",
    "    elapsed = datetime.now() - start_time\n",
    "    print('\\n*** Validation on the Test Set Completed! ***')\n",
    "    print(f'Test Loss: {test_loss/len(dataloaders[\"test\"]):.3f}..',\n",
    "          f'Test Accuracy: {accuracy/len(dataloaders[\"test\"]) * 100:.3f}%')\n",
    "    print(f'Elapsed time[hh:mm:ss.ms]: {elapsed}')\n",
    "\n",
    "# Call the Function.\n",
    "print(\"Initiating validation on the test set\")\n",
    "test_model(model, dataloaders, criterion, device)\n"
   ]
  },
  {
   "cell_type": "markdown",
   "metadata": {},
   "source": [
    "## Save the checkpoint\n",
    "\n",
    "Now that your network is trained, save the model so you can load it later for making predictions. You probably want to save other things such as the mapping of classes to indices which you get from one of the image datasets: `image_datasets['train'].class_to_idx`. You can attach this to the model as an attribute which makes inference easier later on.\n",
    "\n",
    "```model.class_to_idx = image_datasets['train'].class_to_idx```\n",
    "\n",
    "Remember that you'll want to completely rebuild the model later so you can use it for inference. Make sure to include any information you need in the checkpoint. If you want to load the model and keep training, you'll want to save the number of epochs as well as the optimizer state, `optimizer.state_dict`. You'll likely want to use this trained model in the next part of the project, so best to save it now."
   ]
  },
  {
   "cell_type": "code",
   "execution_count": 11,
   "metadata": {},
   "outputs": [
    {
     "name": "stdout",
     "output_type": "stream",
     "text": [
      "Initiating checkpoint saving process\n",
      "*** Starting to Save the Checkpoint ***\n",
      "\n",
      "\n",
      "*** Checkpoint Successfully Saved! ***\n",
      "Saved to: checkpoint.pth\n",
      "Elapsed time[hh:mm:ss.ms]: 0:00:13.112242\n"
     ]
    }
   ],
   "source": [
    "# TODO: Save the checkpoint \n",
    "\n",
    "\n",
    "from datetime import datetime  # Importing datetime if not done already\n",
    "\n",
    "def save_checkpoint(model, optimizer, epochs, class_to_idx, filepath='checkpoint.pth'):\n",
    "    print(\"*** Starting to Save the Checkpoint ***\\n\")\n",
    "    start_time = datetime.now()\n",
    "    \n",
    "    checkpoint = {\n",
    "        'arch': 'vgg16',\n",
    "        'class_to_idx': class_to_idx,\n",
    "        'classifier': model.classifier,\n",
    "        'state_dict': model.state_dict(),\n",
    "        'optimizer_state_dict': optimizer.state_dict(),\n",
    "        'epochs': epochs\n",
    "    }\n",
    "    \n",
    "    torch.save(checkpoint, filepath)\n",
    "    \n",
    "    elapsed = datetime.now() - start_time\n",
    "    print('\\n*** Checkpoint Successfully Saved! ***')\n",
    "    print('Saved to: {}'.format(filepath))\n",
    "    print('Elapsed time[hh:mm:ss.ms]: {}'.format(elapsed))\n",
    "\n",
    "### Call the Function\n",
    "\n",
    "print(\"Initiating checkpoint saving process\")\n",
    "model.class_to_idx = image_datasets['train'].class_to_idx\n",
    "save_checkpoint(model, optimizer, epochs, model.class_to_idx, filepath='checkpoint.pth')\n"
   ]
  },
  {
   "cell_type": "markdown",
   "metadata": {},
   "source": [
    "## Loading the checkpoint\n",
    "\n",
    "At this point it's good to write a function that can load a checkpoint and rebuild the model. That way you can come back to this project and keep working on it without having to retrain the network."
   ]
  },
  {
   "cell_type": "code",
   "execution_count": 12,
   "metadata": {},
   "outputs": [
    {
     "name": "stdout",
     "output_type": "stream",
     "text": [
      "*** Loading checkpoint...\n",
      "Checkpoint loaded successfully from checkpoint.pth\n"
     ]
    },
    {
     "name": "stderr",
     "output_type": "stream",
     "text": [
      "/opt/conda/lib/python3.10/site-packages/torchvision/models/_utils.py:223: UserWarning: Arguments other than a weight enum or `None` for 'weights' are deprecated since 0.13 and may be removed in the future. The current behavior is equivalent to passing `weights=None`.\n",
      "  warnings.warn(msg)\n"
     ]
    },
    {
     "name": "stdout",
     "output_type": "stream",
     "text": [
      "Model state loaded successfully\n",
      "Optimizer state loaded successfully\n",
      "Loaded epoch state: 10\n",
      "\n",
      "*** Checkpoint loading completed!\n",
      "Elapsed time[hh:mm:ss.ms]: 0:00:04.321278\n",
      "Model and optimizer loaded successfully!\n"
     ]
    }
   ],
   "source": [
    "from datetime import datetime\n",
    "\n",
    "def load_checkpoint(filepath):\n",
    "    # Start measuring time\n",
    "    start_time = datetime.now()\n",
    "    \n",
    "    print('*** Loading checkpoint...')\n",
    "    \n",
    "    try:\n",
    "        # Load checkpoint file\n",
    "        checkpoint = torch.load(filepath)\n",
    "        print('Checkpoint loaded successfully from', filepath)\n",
    "        \n",
    "    except FileNotFoundError:\n",
    "        print('Error: No checkpoint found at', filepath)\n",
    "        return None, None, None\n",
    "    \n",
    "    # Initialize model\n",
    "    model = models.vgg16(pretrained=False)  # Adjust as per your model\n",
    "    \n",
    "    # Load model state\n",
    "    try:\n",
    "        model.classifier = checkpoint['classifier']\n",
    "        model.load_state_dict(checkpoint['state_dict'])\n",
    "        model.class_to_idx = checkpoint['class_to_idx']\n",
    "        print('Model state loaded successfully')\n",
    "        \n",
    "    except KeyError as e:\n",
    "        print(f'Error: Key {e} not found in checkpoint')\n",
    "        return None, None, None\n",
    "    \n",
    "    # Initialize and load optimizer state\n",
    "    optimizer = optim.Adam(model.classifier.parameters(), lr=0.001)  # Adjust as per your optimizer\n",
    "    try:\n",
    "        optimizer.load_state_dict(checkpoint['optimizer_state_dict'])\n",
    "        print('Optimizer state loaded successfully')\n",
    "        \n",
    "    except KeyError as e:\n",
    "        print(f'Error: Key {e} not found in checkpoint')\n",
    "        return None, None, None\n",
    "    \n",
    "    # Load epoch information if available\n",
    "    epochs = checkpoint.get('epochs', 0)\n",
    "    if epochs:\n",
    "        print(f'Loaded epoch state: {epochs}')\n",
    "    \n",
    "    # Calculate and print elapsed time\n",
    "    elapsed = datetime.now() - start_time\n",
    "    print('\\n*** Checkpoint loading completed!\\nElapsed time[hh:mm:ss.ms]: {}'.format(elapsed))\n",
    "    \n",
    "    return model, optimizer, epochs\n",
    "\n",
    "\n",
    "# When you call the function:\n",
    "filepath = 'checkpoint.pth'\n",
    "loaded_model, loaded_optimizer, loaded_epochs = load_checkpoint(filepath)\n",
    "\n",
    "if loaded_model and loaded_optimizer:\n",
    "    print('Model and optimizer loaded successfully!')\n"
   ]
  },
  {
   "cell_type": "markdown",
   "metadata": {},
   "source": [
    "# Inference for classification\n",
    "\n",
    "Now you'll write a function to use a trained network for inference. That is, you'll pass an image into the network and predict the class of the flower in the image. Write a function called `predict` that takes an image and a model, then returns the top $K$ most likely classes along with the probabilities. It should look like \n",
    "\n",
    "```python\n",
    "probs, classes = predict(image_path, model)\n",
    "print(probs)\n",
    "print(classes)\n",
    "> [ 0.01558163  0.01541934  0.01452626  0.01443549  0.01407339]\n",
    "> ['70', '3', '45', '62', '55']\n",
    "```\n",
    "\n",
    "First you'll need to handle processing the input image such that it can be used in your network. \n",
    "\n",
    "## Image Preprocessing\n",
    "\n",
    "You'll want to use `PIL` to load the image ([documentation](https://pillow.readthedocs.io/en/latest/reference/Image.html)). It's best to write a function that preprocesses the image so it can be used as input for the model. This function should process the images in the same manner used for training. \n",
    "\n",
    "First, resize the images where the shortest side is 256 pixels, keeping the aspect ratio. This can be done with the [`thumbnail`](http://pillow.readthedocs.io/en/3.1.x/reference/Image.html#PIL.Image.Image.thumbnail) or [`resize`](http://pillow.readthedocs.io/en/3.1.x/reference/Image.html#PIL.Image.Image.thumbnail) methods. Then you'll need to crop out the center 224x224 portion of the image.\n",
    "\n",
    "Color channels of images are typically encoded as integers 0-255, but the model expected floats 0-1. You'll need to convert the values. It's easiest with a Numpy array, which you can get from a PIL image like so `np_image = np.array(pil_image)`.\n",
    "\n",
    "As before, the network expects the images to be normalized in a specific way. For the means, it's `[0.485, 0.456, 0.406]` and for the standard deviations `[0.229, 0.224, 0.225]`. You'll want to subtract the means from each color channel, then divide by the standard deviation. \n",
    "\n",
    "And finally, PyTorch expects the color channel to be the first dimension but it's the third dimension in the PIL image and Numpy array. You can reorder dimensions using [`ndarray.transpose`](https://docs.scipy.org/doc/numpy-1.13.0/reference/generated/numpy.ndarray.transpose.html). The color channel needs to be first and retain the order of the other two dimensions."
   ]
  },
  {
   "cell_type": "code",
   "execution_count": 13,
   "metadata": {},
   "outputs": [
    {
     "name": "stdout",
     "output_type": "stream",
     "text": [
      "Processing the image...\n",
      "Image processed in 0.019 seconds.\n"
     ]
    }
   ],
   "source": [
    "import time\n",
    "import numpy as np\n",
    "from PIL import Image\n",
    "\n",
    "def process_image(image):\n",
    "    '''\n",
    "    Scales, crops, and normalizes a PIL image for a PyTorch model,\n",
    "    returns a NumPy array.\n",
    "    \n",
    "    :param image: PIL Image object.\n",
    "    :return: Processed image as a NumPy array.\n",
    "    '''\n",
    "    \n",
    "    # Start the timer\n",
    "    start_time = time.time()\n",
    "    \n",
    "    # Inform the user that the image is being processed.\n",
    "    print(\"Processing the image...\")\n",
    "    \n",
    "    # Store the original PIL image\n",
    "    pil_img = image\n",
    "    \n",
    "    # Calculate the dimensions of the image\n",
    "    h = min(image.size)\n",
    "    w = max(image.size)\n",
    "    \n",
    "    # Calculate aspect ratio of the original image\n",
    "    ratio_aspect = w / h\n",
    "    \n",
    "    # Determine the indices of the short and long sides\n",
    "    x, y = (0, 1) if h == w else (image.size.index(min(image.size)), image.size.index(max(image.size)))\n",
    "    \n",
    "    # Calculate the new size keeping the aspect ratio and having the short side 256 pixels\n",
    "    new_sz = [256, int(256 * ratio_aspect)] if x == 0 else [int(256 * ratio_aspect), 256]\n",
    "    \n",
    "    # Resize the image\n",
    "    pil_img = image.resize(new_sz)\n",
    "    \n",
    "    # Calculate margins for cropping the center 224x224 portion\n",
    "    l_margin = (new_sz[0] - 224) / 2\n",
    "    t_margin = (new_sz[1] - 224) / 2\n",
    "    r_margin = (new_sz[0] + 224) / 2\n",
    "    b_margin = (new_sz[1] + 224) / 2\n",
    "    \n",
    "    # Crop the center of the image\n",
    "    pil_img = pil_img.crop((l_margin, t_margin, r_margin, b_margin))\n",
    "    \n",
    "    # Convert the PIL image to a NumPy array and normalize it\n",
    "    np_img = np.array(pil_img) / 255.0\n",
    "    mean = np.array([0.485, 0.456, 0.406])\n",
    "    std = np.array([0.229, 0.224, 0.225])\n",
    "    np_img = (np_img - mean) / std\n",
    "    \n",
    "    # Transpose the array to bring the color channel to the first position\n",
    "    np_img = np_img.transpose((2, 0, 1))\n",
    "    \n",
    "    # Calculate and print the elapsed time\n",
    "    elapsed_time = time.time() - start_time\n",
    "    print(f\"Image processed in {elapsed_time:.3f} seconds.\")\n",
    "    \n",
    "    return np_img\n",
    "\n",
    "\n",
    "# Example usage:\n",
    "image_path = \"flowers/test/4/image_05678.jpg\"  # Replace with the actual path to your image\n",
    "image = Image.open(image_path)  # Open the image file\n",
    "processed_image = process_image(image)  # Process the image\n",
    "\n"
   ]
  },
  {
   "cell_type": "markdown",
   "metadata": {},
   "source": [
    "To check your work, the function below converts a PyTorch tensor and displays it in the notebook. If your `process_image` function works, running the output through this function should return the original image (except for the cropped out portions)."
   ]
  },
  {
   "cell_type": "code",
   "execution_count": 14,
   "metadata": {},
   "outputs": [],
   "source": [
    "def imshow(image, ax=None, title=None):\n",
    "    \"\"\"Imshow for Tensor.\"\"\"\n",
    "    if ax is None:\n",
    "        fig, ax = plt.subplots()\n",
    "    \n",
    "    # PyTorch tensors assume the color channel is the first dimension\n",
    "    # but matplotlib assumes is the third dimension\n",
    "    image = image.numpy().transpose((1, 2, 0))\n",
    "    \n",
    "    # Undo preprocessing\n",
    "    mean = np.array([0.485, 0.456, 0.406])\n",
    "    std = np.array([0.229, 0.224, 0.225])\n",
    "    image = std * image + mean\n",
    "    \n",
    "    # Image needs to be clipped between 0 and 1 or it looks like noise when displayed\n",
    "    image = np.clip(image, 0, 1)\n",
    "    \n",
    "    ax.imshow(image)\n",
    "    \n",
    "    return ax"
   ]
  },
  {
   "cell_type": "markdown",
   "metadata": {},
   "source": [
    "## Class Prediction\n",
    "\n",
    "Once you can get images in the correct format, it's time to write a function for making predictions with your model. A common practice is to predict the top 5 or so (usually called top-$K$) most probable classes. You'll want to calculate the class probabilities then find the $K$ largest values.\n",
    "\n",
    "To get the top $K$ largest values in a tensor use [`x.topk(k)`](http://pytorch.org/docs/master/torch.html#torch.topk). This method returns both the highest `k` probabilities and the indices of those probabilities corresponding to the classes. You need to convert from these indices to the actual class labels using `class_to_idx` which hopefully you added to the model or from an `ImageFolder` you used to load the data ([see here](#Save-the-checkpoint)). Make sure to invert the dictionary so you get a mapping from index to class as well.\n",
    "\n",
    "Again, this method should take a path to an image and a model checkpoint, then return the probabilities and classes.\n",
    "\n",
    "```python\n",
    "probs, classes = predict(image_path, model)\n",
    "print(probs)\n",
    "print(classes)\n",
    "> [ 0.01558163  0.01541934  0.01452626  0.01443549  0.01407339]\n",
    "> ['70', '3', '45', '62', '55']\n",
    "```"
   ]
  },
  {
   "cell_type": "code",
   "execution_count": 15,
   "metadata": {},
   "outputs": [],
   "source": [
    "device = torch.device(\"cuda\" if torch.cuda.is_available() else \"cpu\")\n",
    "loaded_model.to(device)  # Ensure the model is on the same device as the input tensor.\n",
    "\n",
    "from PIL import Image\n",
    "import time\n",
    "\n",
    "def predict(image_path, model, topk=5):\n",
    "    \"\"\"\n",
    "    Predict the class of an image.\n",
    "    \n",
    "    :param image_path: string, path to the image file.\n",
    "    :param model: trained model to use for prediction.\n",
    "    :param topk: integer, the top K classes to be calculated.\n",
    "    :return: top probabilities and class labels.\n",
    "    \"\"\"\n",
    "    \n",
    "    # Start the timer\n",
    "    start_time = time.time()\n",
    "    \n",
    "    # Move the model to the device\n",
    "    device = torch.device(\"cuda\" if torch.cuda.is_available() else \"cpu\")\n",
    "    model.to(device)\n",
    "    \n",
    "    print(f\"Using {device} for prediction.\")\n",
    "    \n",
    "    # Open the image file and then process it\n",
    "    try:\n",
    "        image = Image.open(image_path)\n",
    "        processed_image = process_image(image)\n",
    "        print(f\"Image {image_path} opened and processed successfully.\")\n",
    "    except Exception as e:\n",
    "        print(f\"Error in processing the image: {str(e)}\")\n",
    "        return\n",
    "    \n",
    "    # Move the image to the device and add a batch dimension\n",
    "    processed_image = torch.from_numpy(processed_image).type(torch.FloatTensor).to(device).unsqueeze_(0)\n",
    "    \n",
    "    # Set the model to evaluation mode and perform forward pass\n",
    "    model.eval()\n",
    "    with torch.no_grad():\n",
    "        output = model(processed_image)\n",
    "        print(f\"Model forward pass completed.\")\n",
    "        \n",
    "    # Calculate probabilities and get the top classes\n",
    "    probabilities = torch.exp(output)\n",
    "    top_probs, top_classes_idx = probabilities.topk(topk, dim=1)\n",
    "    top_probs, top_classes_idx = top_probs.cpu().numpy()[0], top_classes_idx.cpu().numpy()[0]\n",
    "    \n",
    "    # Map the class indices to actual class labels\n",
    "    idx_to_class = {v: k for k, v in model.class_to_idx.items()}\n",
    "    top_classes = [idx_to_class[idx] for idx in top_classes_idx]\n",
    "    \n",
    "    # Stop the timer\n",
    "    elapsed_time = time.time() - start_time\n",
    "    print(f\"Prediction completed in {elapsed_time:.3f} seconds.\")\n",
    "    \n",
    "    return top_probs, top_classes\n",
    "\n",
    "# Example of function call:\n",
    "# probs, classes = predict(\"path_to_image\", model)\n"
   ]
  },
  {
   "cell_type": "markdown",
   "metadata": {},
   "source": [
    "## Sanity Checking\n",
    "\n",
    "Now that you can use a trained model for predictions, check to make sure it makes sense. Even if the testing accuracy is high, it's always good to check that there aren't obvious bugs. Use `matplotlib` to plot the probabilities for the top 5 classes as a bar graph, along with the input image. It should look like this:\n",
    "\n",
    "<img src='assets/inference_example.png' width=300px>\n",
    "\n",
    "You can convert from the class integer encoding to actual flower names with the `cat_to_name.json` file (should have been loaded earlier in the notebook). To show a PyTorch tensor as an image, use the `imshow` function defined above."
   ]
  },
  {
   "cell_type": "code",
   "execution_count": 16,
   "metadata": {},
   "outputs": [
    {
     "name": "stdout",
     "output_type": "stream",
     "text": [
      "Using cuda for prediction.\n",
      "Processing the image...\n",
      "Image processed in 0.048 seconds.\n",
      "Image flowers/test/4/image_05678.jpg opened and processed successfully.\n",
      "Model forward pass completed.\n",
      "Prediction completed in 0.093 seconds.\n",
      "Initiating visualization...\n",
      "Visualization completed in 0.14 seconds.\n"
     ]
    },
    {
     "data": {
      "image/png": "[encoded data removed]",
      "text/plain": [
       "<Figure size 600x1000 with 2 Axes>"
      ]
     },
     "metadata": {},
     "output_type": "display_data"
    }
   ],
   "source": [
    "# TODO: Display an image along with the top 5 classe\n",
    "from datetime import datetime  # Importing datetime if not already imported\n",
    "\n",
    "def view_classify(img, ps, classes, mapper):\n",
    "    \"\"\"Visualizes the image and the top classes it belongs to.\n",
    "    \n",
    "    Args:\n",
    "        img (PIL.Image): The input image to visualize.\n",
    "        ps (torch.Tensor): The predicted probabilities.\n",
    "        classes (list): List of class indices.\n",
    "        mapper (dict): A dictionary to map class indices to class names.\n",
    "    \"\"\"\n",
    "    start_time = datetime.now()  # Start the timer\n",
    "    \n",
    "    # Check if the ps tensor is empty.\n",
    "    if ps.numel() == 0:\n",
    "        print(\"Error: The probability tensor is empty!\")\n",
    "        return\n",
    "    \n",
    "    ps = ps.data.numpy().squeeze()\n",
    "    \n",
    "    # Set up the subplot configuration.\n",
    "    fig, (ax1, ax2) = plt.subplots(figsize=(6,10), ncols=2)\n",
    "    \n",
    "    # Display the input image.\n",
    "    ax1.imshow(img)\n",
    "    ax1.axis('off')  # Turn off the axis labels\n",
    "    \n",
    "    # Display the horizontal bar graph of class probabilities.\n",
    "    ax2.barh(np.arange(5), ps)\n",
    "    ax2.set_aspect(0.1)\n",
    "    ax2.set_yticks(np.arange(5))\n",
    "    ax2.set_yticklabels([mapper[x] for x in classes], size='small')\n",
    "    ax2.set_title('Class Probability')\n",
    "    ax2.set_xlim(0, 1.1)\n",
    "    \n",
    "    plt.tight_layout()  # Adjust spacing between subplots\n",
    "    \n",
    "    # Print the elapsed time.\n",
    "    elapsed = datetime.now() - start_time\n",
    "    print(f\"Visualization completed in {elapsed.total_seconds():.2f} seconds.\")\n",
    "    \n",
    "\n",
    "# Example usage:\n",
    "image_path = \"flowers/test/4/image_05678.jpg\"\n",
    "probs, classes = predict(image_path, loaded_model)\n",
    "img = Image.open(image_path)\n",
    "\n",
    "print(\"Initiating visualization...\")\n",
    "view_classify(img, torch.from_numpy(probs), classes, cat_to_name)\n",
    "\n"
   ]
  },
  {
   "cell_type": "markdown",
   "metadata": {},
   "source": [
    "## Reminder for Workspace users\n",
    "If your network becomes very large when saved as a checkpoint, there might be issues with saving backups in your workspace. You should reduce the size of your hidden layers and train again. \n",
    "    \n",
    "We strongly encourage you to delete these large interim files and directories before navigating to another page or closing the browser tab."
   ]
  },
  {
   "cell_type": "code",
   "execution_count": 17,
   "metadata": {},
   "outputs": [],
   "source": [
    "# TODO remove .pth files or move it to a temporary `~/opt` directory in this Workspace"
   ]
  },
  {
   "cell_type": "code",
   "execution_count": null,
   "metadata": {},
   "outputs": [],
   "source": []
  }
 ],
 "metadata": {
  "kernelspec": {
   "display_name": "Python 3 (ipykernel)",
   "language": "python",
   "name": "python3"
  },
  "language_info": {
   "codemirror_mode": {
    "name": "ipython",
    "version": 3
   },
   "file_extension": ".py",
   "mimetype": "text/x-python",
   "name": "python",
   "nbconvert_exporter": "python",
   "pygments_lexer": "ipython3",
   "version": "3.11.5"
  }
 },
 "nbformat": 4,
 "nbformat_minor": 2
}
